{
 "cells": [
  {
   "cell_type": "code",
   "execution_count": 1,
   "id": "eight-liquid",
   "metadata": {},
   "outputs": [],
   "source": [
    "from sympy import init_session\n",
    "import math\n",
    "import matplotlib.pyplot as plt"
   ]
  },
  {
   "cell_type": "code",
   "execution_count": 2,
   "id": "silent-pontiac",
   "metadata": {},
   "outputs": [
    {
     "name": "stdout",
     "output_type": "stream",
     "text": [
      "IPython console for SymPy 1.10.1 (Python 3.9.12-64-bit) (ground types: python)\n",
      "\n",
      "These commands were executed:\n",
      ">>> from sympy import *\n",
      ">>> x, y, z, t = symbols('x y z t')\n",
      ">>> k, m, n = symbols('k m n', integer=True)\n",
      ">>> f, g, h = symbols('f g h', cls=Function)\n",
      ">>> init_printing()\n",
      "\n",
      "Documentation can be found at https://docs.sympy.org/1.10.1/\n",
      "\n"
     ]
    }
   ],
   "source": [
    "init_session(use_latex = True)"
   ]
  },
  {
   "cell_type": "code",
   "execution_count": 3,
   "id": "jewish-spoke",
   "metadata": {},
   "outputs": [
    {
     "data": {
      "image/png": "[encoded data removed]",
      "text/latex": [
       "$\\displaystyle \\left( \\theta_{2}, \\  \\theta_{3}, \\  \\theta_{4}\\right)$"
      ],
      "text/plain": [
       "(θ₂, θ₃, θ₄)"
      ]
     },
     "execution_count": 3,
     "metadata": {},
     "output_type": "execute_result"
    }
   ],
   "source": [
    "# Variables\n",
    "theta_2, theta_3, theta_4 = symbols(\"theta_2, theta_3, theta_4\")\n",
    "theta_2, theta_3, theta_4"
   ]
  },
  {
   "cell_type": "code",
   "execution_count": 4,
   "id": "aging-better",
   "metadata": {},
   "outputs": [
    {
     "data": {
      "image/png": "[encoded data removed]",
      "text/latex": [
       "$\\displaystyle \\left( 2, \\  7, \\  9, \\  6\\right)$"
      ],
      "text/plain": [
       "(2, 7, 9, 6)"
      ]
     },
     "execution_count": 4,
     "metadata": {},
     "output_type": "execute_result"
    }
   ],
   "source": [
    "# Parametros\n",
    "a = 2\n",
    "b = 7\n",
    "c = 9\n",
    "d = 6\n",
    "\n",
    "a, b, c, d"
   ]
  },
  {
   "cell_type": "code",
   "execution_count": 5,
   "id": "thermal-panama",
   "metadata": {},
   "outputs": [
    {
     "data": {
      "image/png": "[encoded data removed]",
      "text/latex": [
       "$\\displaystyle 0.698131700797732$"
      ],
      "text/plain": [
       "0.6981317007977318"
      ]
     },
     "execution_count": 5,
     "metadata": {},
     "output_type": "execute_result"
    }
   ],
   "source": [
    "# GDL Variable de Entrada\n",
    "theta_2 = math.radians(40)\n",
    "theta_2"
   ]
  },
  {
   "cell_type": "code",
   "execution_count": 6,
   "id": "dedicated-archives",
   "metadata": {},
   "outputs": [
    {
     "data": {
      "image/png": "[encoded data removed]",
      "text/latex": [
       "$\\displaystyle \\left( 7 \\cos{\\left(\\theta_{3} \\right)} - 9 \\cos{\\left(\\theta_{4} \\right)} - 4.46791111376204, \\  7 \\sin{\\left(\\theta_{3} \\right)} - 9 \\sin{\\left(\\theta_{4} \\right)} + 1.28557521937308\\right)$"
      ],
      "text/plain": [
       "(7⋅cos(θ₃) - 9⋅cos(θ₄) - 4.46791111376204, 7⋅sin(θ₃) - 9⋅sin(θ₄) + 1.285575219\n",
       "37308)"
      ]
     },
     "execution_count": 6,
     "metadata": {},
     "output_type": "execute_result"
    }
   ],
   "source": [
    "# Funciones\n",
    "F1 = a*cos(theta_2) + b*cos(theta_3) - c*cos(theta_4) - d\n",
    "F2 = a*sin(theta_2) + b*sin(theta_3) - c*sin(theta_4)\n",
    "F1, F2"
   ]
  },
  {
   "cell_type": "code",
   "execution_count": 7,
   "id": "sublime-lebanon",
   "metadata": {},
   "outputs": [
    {
     "data": {
      "image/png": "[encoded data removed]",
      "text/latex": [
       "$\\displaystyle \\left[\\begin{matrix}2\\\\1\\end{matrix}\\right]$"
      ],
      "text/plain": [
       "⎡2⎤\n",
       "⎢ ⎥\n",
       "⎣1⎦"
      ]
     },
     "execution_count": 7,
     "metadata": {},
     "output_type": "execute_result"
    }
   ],
   "source": [
    "# Condiciones Iniciales\n",
    "Ini = Matrix([2, 1])\n",
    "Ini"
   ]
  },
  {
   "cell_type": "code",
   "execution_count": 8,
   "id": "french-jacob",
   "metadata": {},
   "outputs": [
    {
     "data": {
      "image/png": "[encoded data removed]",
      "text/latex": [
       "$\\displaystyle \\left[\\begin{matrix}7 \\cos{\\left(\\theta_{3} \\right)} - 9 \\cos{\\left(\\theta_{4} \\right)} - 4.46791111376204\\\\7 \\sin{\\left(\\theta_{3} \\right)} - 9 \\sin{\\left(\\theta_{4} \\right)} + 1.28557521937308\\end{matrix}\\right]$"
      ],
      "text/plain": [
       "⎡7⋅cos(θ₃) - 9⋅cos(θ₄) - 4.46791111376204⎤\n",
       "⎢                                        ⎥\n",
       "⎣7⋅sin(θ₃) - 9⋅sin(θ₄) + 1.28557521937308⎦"
      ]
     },
     "execution_count": 8,
     "metadata": {},
     "output_type": "execute_result"
    }
   ],
   "source": [
    "# Vector de funciones\n",
    "Fun = Matrix([F1,F2])\n",
    "Fun"
   ]
  },
  {
   "cell_type": "code",
   "execution_count": 9,
   "id": "constitutional-intersection",
   "metadata": {},
   "outputs": [
    {
     "data": {
      "image/png": "[encoded data removed]",
      "text/latex": [
       "$\\displaystyle \\left[\\begin{matrix}0.698131700797732\\\\\\theta_{3}\\end{matrix}\\right]$"
      ],
      "text/plain": [
       "⎡0.698131700797732⎤\n",
       "⎢                 ⎥\n",
       "⎣       θ₃        ⎦"
      ]
     },
     "execution_count": 9,
     "metadata": {},
     "output_type": "execute_result"
    }
   ],
   "source": [
    "# Variables\n",
    "Var = Matrix ([theta_2,theta_3])\n",
    "Var"
   ]
  },
  {
   "cell_type": "code",
   "execution_count": 10,
   "id": "thermal-herald",
   "metadata": {},
   "outputs": [
    {
     "ename": "ValueError",
     "evalue": "\nCan't calculate derivative wrt 0.698131700797732.",
     "output_type": "error",
     "traceback": [
      "\u001b[1;31m---------------------------------------------------------------------------\u001b[0m",
      "\u001b[1;31mValueError\u001b[0m                                Traceback (most recent call last)",
      "Input \u001b[1;32mIn [10]\u001b[0m, in \u001b[0;36m<cell line: 2>\u001b[1;34m()\u001b[0m\n\u001b[0;32m      1\u001b[0m \u001b[38;5;66;03m# Jacobiano\u001b[39;00m\n\u001b[1;32m----> 2\u001b[0m J \u001b[38;5;241m=\u001b[39m \u001b[43mFun\u001b[49m\u001b[38;5;241;43m.\u001b[39;49m\u001b[43mjacobian\u001b[49m\u001b[43m(\u001b[49m\u001b[43mVar\u001b[49m\u001b[43m)\u001b[49m\n\u001b[0;32m      3\u001b[0m J\n",
      "File \u001b[1;32m~\\anaconda3\\lib\\site-packages\\sympy\\matrices\\matrices.py:561\u001b[0m, in \u001b[0;36mMatrixCalculus.jacobian\u001b[1;34m(self, X)\u001b[0m\n\u001b[0;32m    557\u001b[0m     \u001b[38;5;28;01mraise\u001b[39;00m \u001b[38;5;167;01mTypeError\u001b[39;00m(\u001b[38;5;124m\"\u001b[39m\u001b[38;5;124mX must be a row or a column matrix\u001b[39m\u001b[38;5;124m\"\u001b[39m)\n\u001b[0;32m    559\u001b[0m \u001b[38;5;66;03m# m is the number of functions and n is the number of variables\u001b[39;00m\n\u001b[0;32m    560\u001b[0m \u001b[38;5;66;03m# computing the Jacobian is now easy:\u001b[39;00m\n\u001b[1;32m--> 561\u001b[0m \u001b[38;5;28;01mreturn\u001b[39;00m \u001b[38;5;28;43mself\u001b[39;49m\u001b[38;5;241;43m.\u001b[39;49m\u001b[43m_new\u001b[49m\u001b[43m(\u001b[49m\u001b[43mm\u001b[49m\u001b[43m,\u001b[49m\u001b[43m \u001b[49m\u001b[43mn\u001b[49m\u001b[43m,\u001b[49m\u001b[43m \u001b[49m\u001b[38;5;28;43;01mlambda\u001b[39;49;00m\u001b[43m \u001b[49m\u001b[43mj\u001b[49m\u001b[43m,\u001b[49m\u001b[43m \u001b[49m\u001b[43mi\u001b[49m\u001b[43m:\u001b[49m\u001b[43m \u001b[49m\u001b[38;5;28;43mself\u001b[39;49m\u001b[43m[\u001b[49m\u001b[43mj\u001b[49m\u001b[43m]\u001b[49m\u001b[38;5;241;43m.\u001b[39;49m\u001b[43mdiff\u001b[49m\u001b[43m(\u001b[49m\u001b[43mX\u001b[49m\u001b[43m[\u001b[49m\u001b[43mi\u001b[49m\u001b[43m]\u001b[49m\u001b[43m)\u001b[49m\u001b[43m)\u001b[49m\n",
      "File \u001b[1;32m~\\anaconda3\\lib\\site-packages\\sympy\\matrices\\repmatrix.py:340\u001b[0m, in \u001b[0;36mMutableRepMatrix._new\u001b[1;34m(cls, copy, *args, **kwargs)\u001b[0m\n\u001b[0;32m    338\u001b[0m     rows, cols, flat_list \u001b[38;5;241m=\u001b[39m args\n\u001b[0;32m    339\u001b[0m \u001b[38;5;28;01melse\u001b[39;00m:\n\u001b[1;32m--> 340\u001b[0m     rows, cols, flat_list \u001b[38;5;241m=\u001b[39m \u001b[38;5;28mcls\u001b[39m\u001b[38;5;241m.\u001b[39m_handle_creation_inputs(\u001b[38;5;241m*\u001b[39margs, \u001b[38;5;241m*\u001b[39m\u001b[38;5;241m*\u001b[39mkwargs)\n\u001b[0;32m    341\u001b[0m     flat_list \u001b[38;5;241m=\u001b[39m \u001b[38;5;28mlist\u001b[39m(flat_list) \u001b[38;5;66;03m# create a shallow copy\u001b[39;00m\n\u001b[0;32m    343\u001b[0m rep \u001b[38;5;241m=\u001b[39m \u001b[38;5;28mcls\u001b[39m\u001b[38;5;241m.\u001b[39m_flat_list_to_DomainMatrix(rows, cols, flat_list)\n",
      "File \u001b[1;32m~\\anaconda3\\lib\\site-packages\\sympy\\matrices\\matrices.py:1127\u001b[0m, in \u001b[0;36mMatrixBase._handle_creation_inputs\u001b[1;34m(cls, *args, **kwargs)\u001b[0m\n\u001b[0;32m   1124\u001b[0m     flat_list \u001b[38;5;241m=\u001b[39m []\n\u001b[0;32m   1125\u001b[0m     \u001b[38;5;28;01mfor\u001b[39;00m i \u001b[38;5;129;01min\u001b[39;00m \u001b[38;5;28mrange\u001b[39m(rows):\n\u001b[0;32m   1126\u001b[0m         flat_list\u001b[38;5;241m.\u001b[39mextend(\n\u001b[1;32m-> 1127\u001b[0m             [\u001b[38;5;28mcls\u001b[39m\u001b[38;5;241m.\u001b[39m_sympify(op(\u001b[38;5;28mcls\u001b[39m\u001b[38;5;241m.\u001b[39m_sympify(i), \u001b[38;5;28mcls\u001b[39m\u001b[38;5;241m.\u001b[39m_sympify(j)))\n\u001b[0;32m   1128\u001b[0m              \u001b[38;5;28;01mfor\u001b[39;00m j \u001b[38;5;129;01min\u001b[39;00m \u001b[38;5;28mrange\u001b[39m(cols)])\n\u001b[0;32m   1130\u001b[0m \u001b[38;5;66;03m# Matrix(2, 2, [1, 2, 3, 4])\u001b[39;00m\n\u001b[0;32m   1131\u001b[0m \u001b[38;5;28;01melif\u001b[39;00m \u001b[38;5;28mlen\u001b[39m(args) \u001b[38;5;241m==\u001b[39m \u001b[38;5;241m3\u001b[39m \u001b[38;5;129;01mand\u001b[39;00m is_sequence(args[\u001b[38;5;241m2\u001b[39m]):\n",
      "File \u001b[1;32m~\\anaconda3\\lib\\site-packages\\sympy\\matrices\\matrices.py:1127\u001b[0m, in \u001b[0;36m<listcomp>\u001b[1;34m(.0)\u001b[0m\n\u001b[0;32m   1124\u001b[0m     flat_list \u001b[38;5;241m=\u001b[39m []\n\u001b[0;32m   1125\u001b[0m     \u001b[38;5;28;01mfor\u001b[39;00m i \u001b[38;5;129;01min\u001b[39;00m \u001b[38;5;28mrange\u001b[39m(rows):\n\u001b[0;32m   1126\u001b[0m         flat_list\u001b[38;5;241m.\u001b[39mextend(\n\u001b[1;32m-> 1127\u001b[0m             [\u001b[38;5;28mcls\u001b[39m\u001b[38;5;241m.\u001b[39m_sympify(\u001b[43mop\u001b[49m\u001b[43m(\u001b[49m\u001b[38;5;28;43mcls\u001b[39;49m\u001b[38;5;241;43m.\u001b[39;49m\u001b[43m_sympify\u001b[49m\u001b[43m(\u001b[49m\u001b[43mi\u001b[49m\u001b[43m)\u001b[49m\u001b[43m,\u001b[49m\u001b[43m \u001b[49m\u001b[38;5;28;43mcls\u001b[39;49m\u001b[38;5;241;43m.\u001b[39;49m\u001b[43m_sympify\u001b[49m\u001b[43m(\u001b[49m\u001b[43mj\u001b[49m\u001b[43m)\u001b[49m\u001b[43m)\u001b[49m)\n\u001b[0;32m   1128\u001b[0m              \u001b[38;5;28;01mfor\u001b[39;00m j \u001b[38;5;129;01min\u001b[39;00m \u001b[38;5;28mrange\u001b[39m(cols)])\n\u001b[0;32m   1130\u001b[0m \u001b[38;5;66;03m# Matrix(2, 2, [1, 2, 3, 4])\u001b[39;00m\n\u001b[0;32m   1131\u001b[0m \u001b[38;5;28;01melif\u001b[39;00m \u001b[38;5;28mlen\u001b[39m(args) \u001b[38;5;241m==\u001b[39m \u001b[38;5;241m3\u001b[39m \u001b[38;5;129;01mand\u001b[39;00m is_sequence(args[\u001b[38;5;241m2\u001b[39m]):\n",
      "File \u001b[1;32m~\\anaconda3\\lib\\site-packages\\sympy\\matrices\\matrices.py:561\u001b[0m, in \u001b[0;36mMatrixCalculus.jacobian.<locals>.<lambda>\u001b[1;34m(j, i)\u001b[0m\n\u001b[0;32m    557\u001b[0m     \u001b[38;5;28;01mraise\u001b[39;00m \u001b[38;5;167;01mTypeError\u001b[39;00m(\u001b[38;5;124m\"\u001b[39m\u001b[38;5;124mX must be a row or a column matrix\u001b[39m\u001b[38;5;124m\"\u001b[39m)\n\u001b[0;32m    559\u001b[0m \u001b[38;5;66;03m# m is the number of functions and n is the number of variables\u001b[39;00m\n\u001b[0;32m    560\u001b[0m \u001b[38;5;66;03m# computing the Jacobian is now easy:\u001b[39;00m\n\u001b[1;32m--> 561\u001b[0m \u001b[38;5;28;01mreturn\u001b[39;00m \u001b[38;5;28mself\u001b[39m\u001b[38;5;241m.\u001b[39m_new(m, n, \u001b[38;5;28;01mlambda\u001b[39;00m j, i: \u001b[38;5;28;43mself\u001b[39;49m\u001b[43m[\u001b[49m\u001b[43mj\u001b[49m\u001b[43m]\u001b[49m\u001b[38;5;241;43m.\u001b[39;49m\u001b[43mdiff\u001b[49m\u001b[43m(\u001b[49m\u001b[43mX\u001b[49m\u001b[43m[\u001b[49m\u001b[43mi\u001b[49m\u001b[43m]\u001b[49m\u001b[43m)\u001b[49m)\n",
      "File \u001b[1;32m~\\anaconda3\\lib\\site-packages\\sympy\\core\\expr.py:3528\u001b[0m, in \u001b[0;36mExpr.diff\u001b[1;34m(self, *symbols, **assumptions)\u001b[0m\n\u001b[0;32m   3526\u001b[0m \u001b[38;5;28;01mdef\u001b[39;00m \u001b[38;5;21mdiff\u001b[39m(\u001b[38;5;28mself\u001b[39m, \u001b[38;5;241m*\u001b[39msymbols, \u001b[38;5;241m*\u001b[39m\u001b[38;5;241m*\u001b[39massumptions):\n\u001b[0;32m   3527\u001b[0m     assumptions\u001b[38;5;241m.\u001b[39msetdefault(\u001b[38;5;124m\"\u001b[39m\u001b[38;5;124mevaluate\u001b[39m\u001b[38;5;124m\"\u001b[39m, \u001b[38;5;28;01mTrue\u001b[39;00m)\n\u001b[1;32m-> 3528\u001b[0m     \u001b[38;5;28;01mreturn\u001b[39;00m _derivative_dispatch(\u001b[38;5;28mself\u001b[39m, \u001b[38;5;241m*\u001b[39msymbols, \u001b[38;5;241m*\u001b[39m\u001b[38;5;241m*\u001b[39massumptions)\n",
      "File \u001b[1;32m~\\anaconda3\\lib\\site-packages\\sympy\\core\\function.py:1923\u001b[0m, in \u001b[0;36m_derivative_dispatch\u001b[1;34m(expr, *variables, **kwargs)\u001b[0m\n\u001b[0;32m   1921\u001b[0m     \u001b[38;5;28;01mfrom\u001b[39;00m \u001b[38;5;21;01msympy\u001b[39;00m\u001b[38;5;21;01m.\u001b[39;00m\u001b[38;5;21;01mtensor\u001b[39;00m\u001b[38;5;21;01m.\u001b[39;00m\u001b[38;5;21;01marray\u001b[39;00m\u001b[38;5;21;01m.\u001b[39;00m\u001b[38;5;21;01marray_derivatives\u001b[39;00m \u001b[38;5;28;01mimport\u001b[39;00m ArrayDerivative\n\u001b[0;32m   1922\u001b[0m     \u001b[38;5;28;01mreturn\u001b[39;00m ArrayDerivative(expr, \u001b[38;5;241m*\u001b[39mvariables, \u001b[38;5;241m*\u001b[39m\u001b[38;5;241m*\u001b[39mkwargs)\n\u001b[1;32m-> 1923\u001b[0m \u001b[38;5;28;01mreturn\u001b[39;00m Derivative(expr, \u001b[38;5;241m*\u001b[39mvariables, \u001b[38;5;241m*\u001b[39m\u001b[38;5;241m*\u001b[39mkwargs)\n",
      "File \u001b[1;32m~\\anaconda3\\lib\\site-packages\\sympy\\core\\function.py:1348\u001b[0m, in \u001b[0;36mDerivative.__new__\u001b[1;34m(cls, expr, *variables, **kwargs)\u001b[0m\n\u001b[0;32m   1346\u001b[0m     \u001b[38;5;28;01mif\u001b[39;00m \u001b[38;5;129;01mnot\u001b[39;00m v\u001b[38;5;241m.\u001b[39m_diff_wrt:\n\u001b[0;32m   1347\u001b[0m         __ \u001b[38;5;241m=\u001b[39m \u001b[38;5;124m'\u001b[39m\u001b[38;5;124m'\u001b[39m  \u001b[38;5;66;03m# filler to make error message neater\u001b[39;00m\n\u001b[1;32m-> 1348\u001b[0m         \u001b[38;5;28;01mraise\u001b[39;00m \u001b[38;5;167;01mValueError\u001b[39;00m(filldedent(\u001b[38;5;124m'''\u001b[39m\n\u001b[0;32m   1349\u001b[0m \u001b[38;5;124m            Can\u001b[39m\u001b[38;5;124m'\u001b[39m\u001b[38;5;124mt calculate derivative wrt \u001b[39m\u001b[38;5;132;01m%s\u001b[39;00m\u001b[38;5;124m.\u001b[39m\u001b[38;5;132;01m%s\u001b[39;00m\u001b[38;5;124m'''\u001b[39m \u001b[38;5;241m%\u001b[39m (v,\n\u001b[0;32m   1350\u001b[0m             __)))\n\u001b[0;32m   1352\u001b[0m \u001b[38;5;66;03m# We make a special case for 0th derivative, because there is no\u001b[39;00m\n\u001b[0;32m   1353\u001b[0m \u001b[38;5;66;03m# good way to unambiguously print this.\u001b[39;00m\n\u001b[0;32m   1354\u001b[0m \u001b[38;5;28;01mif\u001b[39;00m \u001b[38;5;28mlen\u001b[39m(variable_count) \u001b[38;5;241m==\u001b[39m \u001b[38;5;241m0\u001b[39m:\n",
      "\u001b[1;31mValueError\u001b[0m: \nCan't calculate derivative wrt 0.698131700797732."
     ]
    }
   ],
   "source": [
    "# Jacobiano\n",
    "J = Fun.jacobian(Var)\n",
    "J"
   ]
  },
  {
   "cell_type": "code",
   "execution_count": null,
   "id": "confidential-archive",
   "metadata": {},
   "outputs": [],
   "source": [
    "# Jacobiano Invertido\n",
    "Inv = J.inv()\n",
    "Inv"
   ]
  },
  {
   "cell_type": "code",
   "execution_count": null,
   "id": "moderate-browse",
   "metadata": {},
   "outputs": [],
   "source": [
    "# Vector Final\n",
    "Fin = Matrix([0,0])\n",
    "Fin"
   ]
  },
  {
   "cell_type": "code",
   "execution_count": null,
   "id": "grand-introduction",
   "metadata": {},
   "outputs": [],
   "source": [
    "# Tolerancia\n",
    "tol = 1e-6\n",
    "tol"
   ]
  },
  {
   "cell_type": "code",
   "execution_count": null,
   "id": "executed-exemption",
   "metadata": {},
   "outputs": [],
   "source": [
    "# Función Error\n",
    "def error(Ini,Fin):\n",
    "    err = sum(abs(Ini-Fin))\n",
    "    return err"
   ]
  },
  {
   "cell_type": "code",
   "execution_count": null,
   "id": "atlantic-scope",
   "metadata": {},
   "outputs": [],
   "source": [
    "err = error(Ini,Fin)\n",
    "err"
   ]
  },
  {
   "cell_type": "code",
   "execution_count": null,
   "id": "liable-baking",
   "metadata": {},
   "outputs": [],
   "source": [
    "# Newton- Raphson MV\n",
    "con = 0\n",
    "\n",
    "while err > tol:\n",
    "    plt.plot(con,Ini[0].evalf(),\"o\", color = \"blue\")\n",
    "    plt.plot(con,Ini[1].evalf(),\"v\", color = \"red\")\n",
    "    plt.grid()\n",
    "    plt.show\n",
    "    \n",
    "    Fin = Ini - Inv.subs([(theta_2,Ini[0]),(theta_3,Ini[1])]) * Fun.subs([(theta_2,Ini[0]),(theta_3,Ini[1])])\n",
    "    err = error(Ini.evalf(),Fin.evalf())\n",
    "    Ini = Fin.evalf()\n",
    "    con += 1\n",
    "    print(con)\n",
    "    print(err)\n",
    "Fin"
   ]
  },
  {
   "cell_type": "code",
   "execution_count": null,
   "id": "latter-abortion",
   "metadata": {},
   "outputs": [],
   "source": [
    "# Respuesta en Grados\n",
    "math.degrees(Fin[0]), math.degrees(Fin[1])"
   ]
  },
  {
   "cell_type": "code",
   "execution_count": null,
   "id": "subject-wednesday",
   "metadata": {},
   "outputs": [],
   "source": []
  },
  {
   "cell_type": "code",
   "execution_count": null,
   "id": "hazardous-protein",
   "metadata": {},
   "outputs": [],
   "source": []
  },
  {
   "cell_type": "code",
   "execution_count": null,
   "id": "spread-traffic",
   "metadata": {},
   "outputs": [],
   "source": []
  },
  {
   "cell_type": "code",
   "execution_count": null,
   "id": "false-january",
   "metadata": {},
   "outputs": [],
   "source": []
  }
 ],
 "metadata": {
  "kernelspec": {
   "display_name": "Python 3 (ipykernel)",
   "language": "python",
   "name": "python3"
  },
  "language_info": {
   "codemirror_mode": {
    "name": "ipython",
    "version": 3
   },
   "file_extension": ".py",
   "mimetype": "text/x-python",
   "name": "python",
   "nbconvert_exporter": "python",
   "pygments_lexer": "ipython3",
   "version": "3.9.12"
  }
 },
 "nbformat": 4,
 "nbformat_minor": 5
}
