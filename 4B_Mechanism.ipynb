{
 "cells": [
  {
   "cell_type": "markdown",
   "id": "8b37d5f4",
   "metadata": {},
   "source": [
    "# Import Libraries"
   ]
  },
  {
   "cell_type": "code",
   "execution_count": 1,
   "id": "eight-liquid",
   "metadata": {},
   "outputs": [
    {
     "name": "stdout",
     "output_type": "stream",
     "text": [
      "IPython console for SymPy 1.10.1 (Python 3.9.12-64-bit) (ground types: python)\n",
      "\n",
      "These commands were executed:\n",
      ">>> from sympy import *\n",
      ">>> x, y, z, t = symbols('x y z t')\n",
      ">>> k, m, n = symbols('k m n', integer=True)\n",
      ">>> f, g, h = symbols('f g h', cls=Function)\n",
      ">>> init_printing()\n",
      "\n",
      "Documentation can be found at https://docs.sympy.org/1.10.1/\n",
      "\n"
     ]
    }
   ],
   "source": [
    "from sympy import init_session\n",
    "import math\n",
    "import matplotlib.pyplot as plt\n",
    "\n",
    "init_session(use_latex = True)"
   ]
  },
  {
   "cell_type": "code",
   "execution_count": 2,
   "id": "jewish-spoke",
   "metadata": {},
   "outputs": [
    {
     "data": {
      "image/png": "[encoded data removed]",
      "text/latex": [
       "$\\displaystyle \\left( \\theta_{2}, \\  \\theta_{3}, \\  \\theta_{4}\\right)$"
      ],
      "text/plain": [
       "(θ₂, θ₃, θ₄)"
      ]
     },
     "execution_count": 2,
     "metadata": {},
     "output_type": "execute_result"
    }
   ],
   "source": [
    "# Variables\n",
    "theta_2, theta_3, theta_4 = symbols(\"theta_2, theta_3, theta_4\")\n",
    "theta_2, theta_3, theta_4"
   ]
  },
  {
   "cell_type": "code",
   "execution_count": 3,
   "id": "aging-better",
   "metadata": {},
   "outputs": [
    {
     "data": {
      "image/png": "[encoded data removed]",
      "text/latex": [
       "$\\displaystyle \\left( 2, \\  7, \\  9, \\  6\\right)$"
      ],
      "text/plain": [
       "(2, 7, 9, 6)"
      ]
     },
     "execution_count": 3,
     "metadata": {},
     "output_type": "execute_result"
    }
   ],
   "source": [
    "# Parametros\n",
    "a = 2\n",
    "b = 7\n",
    "c = 9\n",
    "d = 6\n",
    "\n",
    "a, b, c, d"
   ]
  },
  {
   "cell_type": "code",
   "execution_count": 4,
   "id": "thermal-panama",
   "metadata": {},
   "outputs": [
    {
     "data": {
      "image/png": "[encoded data removed]",
      "text/latex": [
       "$\\displaystyle 0.523598775598299$"
      ],
      "text/plain": [
       "0.5235987755982988"
      ]
     },
     "execution_count": 4,
     "metadata": {},
     "output_type": "execute_result"
    }
   ],
   "source": [
    "# GDL Variable de Entrada\n",
    "theta_2 = math.radians(30)\n",
    "theta_2"
   ]
  },
  {
   "cell_type": "code",
   "execution_count": 5,
   "id": "dedicated-archives",
   "metadata": {},
   "outputs": [
    {
     "data": {
      "image/png": "[encoded data removed]",
      "text/latex": [
       "$\\displaystyle \\left( 7 \\cos{\\left(\\theta_{3} \\right)} - 9 \\cos{\\left(\\theta_{4} \\right)} - 4.26794919243112, \\  7 \\sin{\\left(\\theta_{3} \\right)} - 9 \\sin{\\left(\\theta_{4} \\right)} + 1.0\\right)$"
      ],
      "text/plain": [
       "(7⋅cos(θ₃) - 9⋅cos(θ₄) - 4.26794919243112, 7⋅sin(θ₃) - 9⋅sin(θ₄) + 1.0)"
      ]
     },
     "execution_count": 5,
     "metadata": {},
     "output_type": "execute_result"
    }
   ],
   "source": [
    "# Funciones\n",
    "F1 = a*cos(theta_2) + b*cos(theta_3) - c*cos(theta_4) - d\n",
    "F2 = a*sin(theta_2) + b*sin(theta_3) - c*sin(theta_4)\n",
    "F1, F2"
   ]
  },
  {
   "cell_type": "code",
   "execution_count": 6,
   "id": "sublime-lebanon",
   "metadata": {},
   "outputs": [
    {
     "data": {
      "image/png": "[encoded data removed]",
      "text/latex": [
       "$\\displaystyle \\left[\\begin{matrix}2\\\\1\\end{matrix}\\right]$"
      ],
      "text/plain": [
       "⎡2⎤\n",
       "⎢ ⎥\n",
       "⎣1⎦"
      ]
     },
     "execution_count": 6,
     "metadata": {},
     "output_type": "execute_result"
    }
   ],
   "source": [
    "# Condiciones Iniciales\n",
    "Ini = Matrix([2, 1])\n",
    "Ini"
   ]
  },
  {
   "cell_type": "code",
   "execution_count": 7,
   "id": "french-jacob",
   "metadata": {},
   "outputs": [
    {
     "data": {
      "image/png": "[encoded data removed]",
      "text/latex": [
       "$\\displaystyle \\left[\\begin{matrix}7 \\cos{\\left(\\theta_{3} \\right)} - 9 \\cos{\\left(\\theta_{4} \\right)} - 4.26794919243112\\\\7 \\sin{\\left(\\theta_{3} \\right)} - 9 \\sin{\\left(\\theta_{4} \\right)} + 1.0\\end{matrix}\\right]$"
      ],
      "text/plain": [
       "⎡7⋅cos(θ₃) - 9⋅cos(θ₄) - 4.26794919243112⎤\n",
       "⎢                                        ⎥\n",
       "⎣      7⋅sin(θ₃) - 9⋅sin(θ₄) + 1.0       ⎦"
      ]
     },
     "execution_count": 7,
     "metadata": {},
     "output_type": "execute_result"
    }
   ],
   "source": [
    "# Vector de funciones\n",
    "Fun = Matrix([F1,F2])\n",
    "Fun"
   ]
  },
  {
   "cell_type": "code",
   "execution_count": 8,
   "id": "constitutional-intersection",
   "metadata": {},
   "outputs": [
    {
     "data": {
      "image/png": "[encoded data removed]",
      "text/latex": [
       "$\\displaystyle \\left[\\begin{matrix}\\theta_{3}\\\\\\theta_{4}\\end{matrix}\\right]$"
      ],
      "text/plain": [
       "⎡θ₃⎤\n",
       "⎢  ⎥\n",
       "⎣θ₄⎦"
      ]
     },
     "execution_count": 8,
     "metadata": {},
     "output_type": "execute_result"
    }
   ],
   "source": [
    "# Variables\n",
    "Var = Matrix ([theta_3,theta_4])\n",
    "Var"
   ]
  },
  {
   "cell_type": "code",
   "execution_count": 9,
   "id": "thermal-herald",
   "metadata": {},
   "outputs": [
    {
     "data": {
      "image/png": "[encoded data removed]",
      "text/latex": [
       "$\\displaystyle \\left[\\begin{matrix}- 7 \\sin{\\left(\\theta_{3} \\right)} & 9 \\sin{\\left(\\theta_{4} \\right)}\\\\7 \\cos{\\left(\\theta_{3} \\right)} & - 9 \\cos{\\left(\\theta_{4} \\right)}\\end{matrix}\\right]$"
      ],
      "text/plain": [
       "⎡-7⋅sin(θ₃)  9⋅sin(θ₄) ⎤\n",
       "⎢                      ⎥\n",
       "⎣7⋅cos(θ₃)   -9⋅cos(θ₄)⎦"
      ]
     },
     "execution_count": 9,
     "metadata": {},
     "output_type": "execute_result"
    }
   ],
   "source": [
    "# Jacobiano\n",
    "J = Fun.jacobian(Var)\n",
    "J"
   ]
  },
  {
   "cell_type": "code",
   "execution_count": 10,
   "id": "confidential-archive",
   "metadata": {},
   "outputs": [
    {
     "data": {
      "image/png": "[encoded data removed]",
      "text/latex": [
       "$\\displaystyle \\left[\\begin{matrix}- \\frac{\\cos{\\left(\\theta_{4} \\right)}}{7 \\sin{\\left(\\theta_{3} \\right)} \\cos{\\left(\\theta_{4} \\right)} - 7 \\sin{\\left(\\theta_{4} \\right)} \\cos{\\left(\\theta_{3} \\right)}} & - \\frac{\\sin{\\left(\\theta_{4} \\right)}}{7 \\sin{\\left(\\theta_{3} \\right)} \\cos{\\left(\\theta_{4} \\right)} - 7 \\sin{\\left(\\theta_{4} \\right)} \\cos{\\left(\\theta_{3} \\right)}}\\\\\\frac{\\cos{\\left(\\theta_{3} \\right)}}{- 9 \\sin{\\left(\\theta_{3} \\right)} \\cos{\\left(\\theta_{4} \\right)} + 9 \\sin{\\left(\\theta_{4} \\right)} \\cos{\\left(\\theta_{3} \\right)}} & \\frac{\\sin{\\left(\\theta_{3} \\right)}}{- 9 \\sin{\\left(\\theta_{3} \\right)} \\cos{\\left(\\theta_{4} \\right)} + 9 \\sin{\\left(\\theta_{4} \\right)} \\cos{\\left(\\theta_{3} \\right)}}\\end{matrix}\\right]$"
      ],
      "text/plain": [
       "⎡              -cos(θ₄)                                -sin(θ₄)               \n",
       "⎢─────────────────────────────────────   ─────────────────────────────────────\n",
       "⎢7⋅sin(θ₃)⋅cos(θ₄) - 7⋅sin(θ₄)⋅cos(θ₃)   7⋅sin(θ₃)⋅cos(θ₄) - 7⋅sin(θ₄)⋅cos(θ₃)\n",
       "⎢                                                                             \n",
       "⎢               cos(θ₃)                                 sin(θ₃)               \n",
       "⎢──────────────────────────────────────  ─────────────────────────────────────\n",
       "⎣-9⋅sin(θ₃)⋅cos(θ₄) + 9⋅sin(θ₄)⋅cos(θ₃)  -9⋅sin(θ₃)⋅cos(θ₄) + 9⋅sin(θ₄)⋅cos(θ₃\n",
       "\n",
       " ⎤\n",
       " ⎥\n",
       " ⎥\n",
       " ⎥\n",
       " ⎥\n",
       "─⎥\n",
       ")⎦"
      ]
     },
     "execution_count": 10,
     "metadata": {},
     "output_type": "execute_result"
    }
   ],
   "source": [
    "# Jacobiano Invertido\n",
    "Inv = J.inv()\n",
    "Inv"
   ]
  },
  {
   "cell_type": "code",
   "execution_count": 11,
   "id": "moderate-browse",
   "metadata": {},
   "outputs": [
    {
     "data": {
      "image/png": "[encoded data removed]",
      "text/latex": [
       "$\\displaystyle \\left[\\begin{matrix}0\\\\0\\end{matrix}\\right]$"
      ],
      "text/plain": [
       "⎡0⎤\n",
       "⎢ ⎥\n",
       "⎣0⎦"
      ]
     },
     "execution_count": 11,
     "metadata": {},
     "output_type": "execute_result"
    }
   ],
   "source": [
    "# Vector Final\n",
    "Fin = Matrix([0,0])\n",
    "Fin"
   ]
  },
  {
   "cell_type": "code",
   "execution_count": 12,
   "id": "grand-introduction",
   "metadata": {},
   "outputs": [
    {
     "data": {
      "image/png": "[encoded data removed]",
      "text/latex": [
       "$\\displaystyle 1.0 \\cdot 10^{-6}$"
      ],
      "text/plain": [
       "1e-06"
      ]
     },
     "execution_count": 12,
     "metadata": {},
     "output_type": "execute_result"
    }
   ],
   "source": [
    "# Tolerancia\n",
    "tol = 1e-6\n",
    "tol"
   ]
  },
  {
   "cell_type": "code",
   "execution_count": 13,
   "id": "executed-exemption",
   "metadata": {},
   "outputs": [],
   "source": [
    "# Función Error\n",
    "def error(Ini,Fin):\n",
    "    err = sum(abs(Ini-Fin))\n",
    "    return err"
   ]
  },
  {
   "cell_type": "code",
   "execution_count": 14,
   "id": "atlantic-scope",
   "metadata": {},
   "outputs": [
    {
     "data": {
      "image/png": "[encoded data removed]",
      "text/latex": [
       "$\\displaystyle 3$"
      ],
      "text/plain": [
       "3"
      ]
     },
     "execution_count": 14,
     "metadata": {},
     "output_type": "execute_result"
    }
   ],
   "source": [
    "err = error(Ini,Fin)\n",
    "err"
   ]
  },
  {
   "cell_type": "code",
   "execution_count": 15,
   "id": "liable-baking",
   "metadata": {},
   "outputs": [
    {
     "name": "stdout",
     "output_type": "stream",
     "text": [
      "1\n",
      "1.77127937456060\n",
      "2\n",
      "0.786133333901996\n",
      "3\n",
      "0.353723676377505\n",
      "4\n",
      "0.0454698072991584\n",
      "5\n",
      "0.000814333041136761\n",
      "6\n",
      "1.28593024228962e-7\n"
     ]
    },
    {
     "data": {
      "image/png": "[encoded data removed]",
      "text/latex": [
       "$\\displaystyle \\left[\\begin{matrix}1.55050235907825\\\\2.04702805088061\\end{matrix}\\right]$"
      ],
      "text/plain": [
       "⎡1.55050235907825⎤\n",
       "⎢                ⎥\n",
       "⎣2.04702805088061⎦"
      ]
     },
     "execution_count": 15,
     "metadata": {},
     "output_type": "execute_result"
    }
   ],
   "source": [
    "# Newton- Raphson MV\n",
    "con = 0\n",
    "\n",
    "while err > tol:\n",
    "#     plt.plot(con,Ini[0].evalf(),\"o\", color = \"blue\")\n",
    "#     plt.plot(con,Ini[1].evalf(),\"v\", color = \"red\")\n",
    "#     plt.grid()\n",
    "#     plt.show\n",
    "    \n",
    "    Fin = Ini - Inv.subs([(theta_3,Ini[0]),(theta_4,Ini[1])]) * Fun.subs([(theta_3,Ini[0]),(theta_4,Ini[1])])\n",
    "    err = error(Ini.evalf(),Fin.evalf())\n",
    "    Ini = Fin.evalf()\n",
    "    con += 1\n",
    "    print(con)\n",
    "    print(err)\n",
    "Fin"
   ]
  },
  {
   "cell_type": "code",
   "execution_count": 16,
   "id": "latter-abortion",
   "metadata": {},
   "outputs": [
    {
     "data": {
      "image/png": "[encoded data removed]",
      "text/latex": [
       "$\\displaystyle \\left( 88.84, \\  117.29\\right)$"
      ],
      "text/plain": [
       "(88.84, 117.29)"
      ]
     },
     "execution_count": 16,
     "metadata": {},
     "output_type": "execute_result"
    }
   ],
   "source": [
    "# Respuesta en Grados\n",
    "round(math.degrees(Fin[0]), 2), round(math.degrees(Fin[1]), 2)"
   ]
  },
  {
   "cell_type": "code",
   "execution_count": null,
   "id": "subject-wednesday",
   "metadata": {},
   "outputs": [],
   "source": []
  },
  {
   "cell_type": "code",
   "execution_count": null,
   "id": "hazardous-protein",
   "metadata": {},
   "outputs": [],
   "source": []
  },
  {
   "cell_type": "code",
   "execution_count": null,
   "id": "spread-traffic",
   "metadata": {},
   "outputs": [],
   "source": []
  },
  {
   "cell_type": "code",
   "execution_count": null,
   "id": "false-january",
   "metadata": {},
   "outputs": [],
   "source": []
  }
 ],
 "metadata": {
  "kernelspec": {
   "display_name": "Python 3 (ipykernel)",
   "language": "python",
   "name": "python3"
  },
  "language_info": {
   "codemirror_mode": {
    "name": "ipython",
    "version": 3
   },
   "file_extension": ".py",
   "mimetype": "text/x-python",
   "name": "python",
   "nbconvert_exporter": "python",
   "pygments_lexer": "ipython3",
   "version": "3.9.12"
  }
 },
 "nbformat": 4,
 "nbformat_minor": 5
}
